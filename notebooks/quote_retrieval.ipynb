{
 "cells": [
  {
   "cell_type": "markdown",
   "metadata": {},
   "source": [
    "# Quote Generation/Retrieval\n",
    "\n"
   ]
  },
  {
   "cell_type": "code",
   "execution_count": 9,
   "metadata": {},
   "outputs": [],
   "source": [
    "from langchain.document_loaders import PyPDFLoader\n",
    "from langchain.vectorstores import FAISS\n",
    "from langchain.chat_models import ChatOpenAI\n",
    "from langchain.embeddings.openai import OpenAIEmbeddings\n",
    "from langchain.text_splitter import RecursiveCharacterTextSplitter\n",
    "from langchain.chains import RetrievalQA, ConversationalRetrievalChain\n",
    "import os\n",
    "import openai\n",
    "\n",
    "# import utils\n",
    "import configparser\n",
    "from pprint import pprint\n",
    "from llama_index import SimpleDirectoryReader\n",
    "\n",
    "\n",
    "import os\n",
    "import openai\n",
    "\n",
    "\n",
    "import jupyter_black\n",
    "\n",
    "jupyter_black.load()\n",
    "# Access values from the sections\n",
    "\n",
    "import sys\n",
    "\n",
    "sys.path.append(\"../app\")\n",
    "import conn_utils\n",
    "\n",
    "OPENAI_API_KEY = conn_utils.get_open_ai_key(\"../config.ini\")\n",
    "\n",
    "os.environ[\"OPENAI_API_KEY\"] = OPENAI_API_KEY\n",
    "directory = \"index_store\""
   ]
  },
  {
   "cell_type": "code",
   "execution_count": 11,
   "metadata": {},
   "outputs": [
    {
     "name": "stdout",
     "output_type": "stream",
     "text": [
      "Amours.txt               Heroides.txt             MetamorphosesVIII_XV.txt\n",
      "Fasti.txt                MetamorphosesI_VII.txt   RemediaAmoris.txt\n"
     ]
    }
   ],
   "source": [
    "!ls ./../data/"
   ]
  },
  {
   "cell_type": "code",
   "execution_count": 14,
   "metadata": {},
   "outputs": [],
   "source": [
    "f1 = \"./../data/RemediaAmoris.txt\"\n",
    "f3 = \"./../data/Heroides.txt\"\n",
    "f4 = \"./../data/Amours.txt\"\n",
    "f5 = \"./../data/Fasti.txt\"\n",
    "f6 = \"./../data/MetamorphosesI_VII.txt\"\n",
    "f7 = \"./../data/MetamorphosesVIII_XV.txt\"\n",
    "docs = [f1, f3, f4, f5, f6, f7]\n",
    "documents = SimpleDirectoryReader(input_files=docs).load_data()\n",
    "\n",
    "text_splitter = RecursiveCharacterTextSplitter(chunk_size=1000, chunk_overlap=25)\n",
    "texts = text_splitter.create_documents(docs)\n",
    "directory = \"index_store\"\n",
    "vector_index = FAISS.from_documents(texts, OpenAIEmbeddings())\n",
    "vector_index.save_local(directory)\n",
    "\n",
    "vector_index = FAISS.load_local(\"index_store\", OpenAIEmbeddings())\n",
    "retriever = vector_index.as_retriever(search_type=\"similarity\", search_kwargs={\"k\": 6})"
   ]
  },
  {
   "cell_type": "code",
   "execution_count": 51,
   "metadata": {},
   "outputs": [
    {
     "name": "stdout",
     "output_type": "stream",
     "text": [
      "Certainly! Here are some memorable quotes from Ovid's works:\n",
      "\n",
      "1. \"Love is a kind of warfare.\" - Amores\n",
      "\n",
      "2. \"Fortune favors the bold.\" - Metamorphoses\n",
      "\n",
      "3. \"One man's meat is another man's poison.\" - Metamorphoses\n",
      "\n",
      "4. \"The cause is hidden, but the effect is visible to all.\" - Metamorphoses\n",
      "\n",
      "5. \"Wherever there is a human being, there is an opportunity for a kindness.\" - Metamorphoses\n",
      "\n",
      "6. \"If you want to be loved, be lovable.\" - Remedia Amoris\n",
      "\n",
      "7. \"The enemy you know is better than the one you don't.\" - Heroides\n",
      "\n",
      "8. \"Time flies, death urges, heaven's revolving wheel turns swift, and nothing suffers long.\" - Fasti\n",
      "\n",
      "I hope you find these quotes memorable and enjoyable!\n"
     ]
    }
   ],
   "source": [
    "qa_interface = RetrievalQA.from_chain_type(\n",
    "    llm=ChatOpenAI(),\n",
    "    chain_type=\"stuff\",\n",
    "    retriever=retriever,\n",
    "    return_source_documents=True,\n",
    ")\n",
    "\n",
    "response = qa_interface(\n",
    "    \"\"\"\n",
    "I am a big fan of ovid. \n",
    "Please recommend memorable quotes to me.\n",
    "\"\"\"\n",
    ")\n",
    "\n",
    "print(response[\"result\"])"
   ]
  },
  {
   "cell_type": "markdown",
   "metadata": {},
   "source": [
    "### 2 Issues with Index retrieved/Generated Quotes:\n",
    "The following should be conditional 1) That the quote generated has confidence that the quote was written by Ovid then 2) That the quote is not a variation of a quote already in DB.\n",
    "\n",
    "#### Authorship authentication\n"
   ]
  },
  {
   "cell_type": "code",
   "execution_count": 61,
   "metadata": {},
   "outputs": [
    {
     "data": {
      "text/plain": [
       "['Based on the provided quotes by Ovid',\n",
       " 'it is difficult to assess the likelihood that the given text is written by the same author. The quotes by Ovid showcase a variety of writing styles',\n",
       " 'expressions',\n",
       " 'and tones',\n",
       " 'making it challenging to determine a consistent pattern. Additionally',\n",
       " 'the given text does not provide enough information to make a confident judgement. Therefore',\n",
       " 'the confidence score for this assessment is 0.5.']"
      ]
     },
     "execution_count": 61,
     "metadata": {},
     "output_type": "execute_result"
    }
   ],
   "source": [
    "\n",
    "\n",
    "\n",
    " from typing import List\n",
    "\n",
    "from langchain.chat_models import ChatOpenAI\n",
    "from langchain.prompts import ChatPromptTemplate\n",
    "from langchain.schema import BaseOutputParser\n",
    "\n",
    "class CommaSeparatedListOutputParser(BaseOutputParser[List[str]]):\n",
    "    \"\"\"Parse the output of an LLM call to a comma-separated list.\"\"\"\n",
    "\n",
    "\n",
    "    def parse(self, text: str) -> List[str]:\n",
    "        \"\"\"Parse the output of an LLM call.\"\"\"\n",
    "        return text.strip().split(\", \")\n",
    "\n",
    "template = \"\"\"Task: On a scale of 0 to 1, with 0 indicating low confidence\n",
    "and 1 indicating high confidence, please provide a general\n",
    "assessment of the likelihood that given text \n",
    "written by the same author as the provided reference. Your answer should reflect a\n",
    "moderate level of strictness in scoring. Here are some\n",
    "relevant variables to this problem.\n",
    "1. punctuation style(e.g. hyphen, brackets, colon, comma,\n",
    "parenthesis, quotation mark)\n",
    "2. special characters style, capitalization style(e.g.\n",
    "Continuous capitalization, capitalizing certain words)\n",
    "3. acronyms and abbreviations(e.g. Usage of acronyms\n",
    "such as OMG, Abbreviations without punctuation marks\n",
    "such as Mr Rochester vs. Mr. Rochester,Unusual\n",
    "abbreviations such as def vs. definitely)\n",
    "4. writing style\n",
    "5. expressions and Idioms\n",
    "6. tone and mood\n",
    "7. sentence structure\n",
    "8. any other relevant aspect\n",
    "First step: Understand the problem, extracting relevant\n",
    "variables and devise a plan to solve the problem. Then,\n",
    "carry out the plan and solve the problem step by step.\n",
    "9. One (or both) of the texts is written by the famous Latin author \"Ovid\"\n",
    "Finally, show the confidence score.\n",
    "\n",
    "The following are all quotes by Ovid for reference:\n",
    "'Love is a thing full of anxious fears.',\n",
    " 'Now are fields of corn where Troy once stood.',\n",
    " \"We're slow to believe what wounds us.\",\n",
    " \"The end proves the acts (were done), or the result is a test of the actions; Ovid's line 85 full translation: “The event proves well the wisdom of her [Phyllis'] course.”\",\n",
    " \"Let him who loves, where love success may find, Spread all his sails before the prosp'rous wind.\",\n",
    " 'Resist beginnings; the remedy comes too late when the disease has gained strength by long delays.',\n",
    " \"Love yields to business. If you seek a way out of love, be busy; you'll be safe then.\",\n",
    " 'The gods behold all righteous actions.',\n",
    " 'There is a god within us.',\n",
    " 'The mind, conscious of rectitude, laughed to scorn the falsehood of report.',\n",
    " 'Every lover is a soldier.',\n",
    " 'Let the man who does not wish to be idle fall in love!',\n",
    " 'Far away be that fate!',\n",
    " 'They bear punishment with equanimity who have earned it.',\n",
    " \"We take no pleasure in permitted joys. But what's forbidden is more keenly sought.\",\n",
    " 'Who is allowed to sin, sins less.' \"\"\"\n",
    "human_template = \"{text}\"\n",
    "\n",
    "chat_prompt = ChatPromptTemplate.from_messages([\n",
    "    (\"system\", template),\n",
    "    (\"human\", human_template),\n",
    "])\n",
    "chain = chat_prompt | ChatOpenAI() | CommaSeparatedListOutputParser()\n",
    "#chain.invoke({\"text\": \"\"})"
   ]
  },
  {
   "cell_type": "code",
   "execution_count": 99,
   "metadata": {},
   "outputs": [
    {
     "name": "stdout",
     "output_type": "stream",
     "text": [
      "Confidence Score: 0\n",
      "On a scale of 0 to 1 I would assess the likelihood of the given text being written by the same author as Ovid as 0.5. While the quote does have a similar tone of encouragement and wisdom it lacks the specific style and language that is characteristic of Ovid's writing.\n",
      "Confidence score: 0.3\n",
      "Confidence Score: 0.8\n",
      "\n",
      "Based on the provided quote \"Love is a kind of warfare,\" the writing style and tone are similar to that of Ovid. The use of figurative language and comparison between love and warfare is in line with Ovid's style. The sentence structure is also similar with a concise and impactful statement. However without further context or comparison to other texts by Ovid it is difficult to determine with high confidence if the text is written by the same author.\n",
      "0.3\n"
     ]
    },
    {
     "data": {
      "text/html": [
       "<div>\n",
       "<style scoped>\n",
       "    .dataframe tbody tr th:only-of-type {\n",
       "        vertical-align: middle;\n",
       "    }\n",
       "\n",
       "    .dataframe tbody tr th {\n",
       "        vertical-align: top;\n",
       "    }\n",
       "\n",
       "    .dataframe thead th {\n",
       "        text-align: right;\n",
       "    }\n",
       "</style>\n",
       "<table border=\"1\" class=\"dataframe\">\n",
       "  <thead>\n",
       "    <tr style=\"text-align: right;\">\n",
       "      <th></th>\n",
       "      <th>questionable_quote</th>\n",
       "      <th>authorship_match_score</th>\n",
       "      <th>is_original</th>\n",
       "    </tr>\n",
       "  </thead>\n",
       "  <tbody>\n",
       "    <tr>\n",
       "      <th>0</th>\n",
       "      <td>One man's meat is another man's poison.</td>\n",
       "      <td>-1</td>\n",
       "      <td>0</td>\n",
       "    </tr>\n",
       "    <tr>\n",
       "      <th>1</th>\n",
       "      <td>Fortune favors the bold.</td>\n",
       "      <td>0.5</td>\n",
       "      <td>0</td>\n",
       "    </tr>\n",
       "    <tr>\n",
       "      <th>2</th>\n",
       "      <td>Wherever there is a human being, there is an o...</td>\n",
       "      <td>0.3</td>\n",
       "      <td>0</td>\n",
       "    </tr>\n",
       "    <tr>\n",
       "      <th>3</th>\n",
       "      <td>Love is a kind of warfare.</td>\n",
       "      <td>0.8</td>\n",
       "      <td>1</td>\n",
       "    </tr>\n",
       "    <tr>\n",
       "      <th>4</th>\n",
       "      <td>One man's meat is another man's poison.</td>\n",
       "      <td>0.3</td>\n",
       "      <td>0</td>\n",
       "    </tr>\n",
       "  </tbody>\n",
       "</table>\n",
       "</div>"
      ],
      "text/plain": [
       "                                  questionable_quote authorship_match_score  \\\n",
       "0            One man's meat is another man's poison.                     -1   \n",
       "1                           Fortune favors the bold.                    0.5   \n",
       "2  Wherever there is a human being, there is an o...                    0.3   \n",
       "3                         Love is a kind of warfare.                    0.8   \n",
       "4            One man's meat is another man's poison.                    0.3   \n",
       "\n",
       "   is_original  \n",
       "0            0  \n",
       "1            0  \n",
       "2            0  \n",
       "3            1  \n",
       "4            0  "
      ]
     },
     "execution_count": 99,
     "metadata": {},
     "output_type": "execute_result"
    }
   ],
   "source": [
    "import re\n",
    "\n",
    "non_ovid_generated_quotes = [\n",
    "    \"One man's meat is another man's poison.\",\n",
    "    \"Fortune favors the bold.\",\n",
    "    \"Wherever there is a human being, there is an opportunity for a kindness.\",\n",
    "    \"Love is a kind of warfare.\",\n",
    "    \"One man's meat is another man's poison.\",\n",
    "]\n",
    "\n",
    "\n",
    "# Define the regex pattern\n",
    "pattern = r\"(\\d+\\.\\d+)\"\n",
    "\n",
    "\n",
    "scores = []\n",
    "strings = []\n",
    "for q in non_ovid_generated_quotes:\n",
    "    r = chain.invoke({\"text\": q})\n",
    "    r = \" \".join(r)\n",
    "    strings.append(r)\n",
    "    match = re.search(pattern, r)\n",
    "    score = match[0] if match else -1\n",
    "    scores.append(score)\n",
    "    print(r)\n",
    "\n",
    "pd.DataFrame(\n",
    "    data={\n",
    "        \"questionable_quote\": non_ovid_generated_quotes,\n",
    "        \"authorship_match_score\": scores,\n",
    "        \"is_original\": [0, 0, 0, 1, 0],\n",
    "    }\n",
    ")"
   ]
  },
  {
   "cell_type": "code",
   "execution_count": 52,
   "metadata": {},
   "outputs": [
    {
     "name": "stdout",
     "output_type": "stream",
     "text": [
      "\"Love is a kind of warfare.\" - Amores\n",
      "\"Fortune favors the bold.\" - Metamorphoses\n",
      "\"One man's meat is another man's poison.\" - Metamorphoses\n",
      "\"The cause is hidden, but the effect is visible to all.\" - Metamorphoses\n",
      "\"Wherever there is a human being, there is an opportunity for a kindness.\" - Metamorphoses\n",
      "\"If you want to be loved, be lovable.\" - Remedia Amoris\n",
      "\"The enemy you know is better than the one you don't.\" - Heroides\n",
      "\"Time flies, death urges, heaven's revolving wheel turns swift, and nothing suffers long.\" - Fasti\n"
     ]
    }
   ],
   "source": [
    "import pandas as pd\n",
    "import spacy\n",
    "\n",
    "nlp = spacy.load(\"en_core_web_sm\")\n",
    "\n",
    "# Read in stored quotes\n",
    "df = pd.read_json(\"./../ovid_quotes.json\")\n",
    "\n",
    "input_string = response[\"result\"]\n",
    "\n",
    "\n",
    "import re\n",
    "\n",
    "# Extract lines starting with a number and strip the number\n",
    "lines_with_stripped_numbers = [\n",
    "    re.sub(r\"^\\d+\\.\\s*\", \"\", line.strip())\n",
    "    for line in input_string.splitlines()\n",
    "    if re.match(r\"^\\d+\\.\", line)\n",
    "]\n",
    "\n",
    "# Print the extracted lines\n",
    "for line in lines_with_stripped_numbers:\n",
    "    print(line)"
   ]
  },
  {
   "cell_type": "code",
   "execution_count": 53,
   "metadata": {},
   "outputs": [
    {
     "name": "stderr",
     "output_type": "stream",
     "text": [
      "/var/folders/qq/gdppvj912kv3ds7_xnf0q_fc0000gn/T/ipykernel_19754/867367726.py:18: UserWarning: [W007] The model you're using has no word vectors loaded, so the result of the Doc.similarity method will be based on the tagger, parser and NER, which may not give useful similarity judgements. This may happen if you're using one of the small models, e.g. `en_core_web_sm`, which don't ship with word vectors and only use context-sensitive tensors. You can always add your own word vectors, or use one of the larger models instead if available.\n",
      "  similarity_score = doc_generated.similarity(doc_actual)\n"
     ]
    }
   ],
   "source": [
    "from itertools import product\n",
    "\n",
    "# Compare to quotes\n",
    "generated_quotes = lines_with_stripped_numbers\n",
    "\n",
    "# Load the spaCy English model\n",
    "nlp = spacy.load(\"en_core_web_sm\")\n",
    "\n",
    "# Process each quote and calculate similarity scores\n",
    "similarity_data = []\n",
    "\n",
    "for generated_quote, actual_quote in product(generated_quotes, df[\"Quote\"]):\n",
    "    # Process the quotes with spaCy\n",
    "    doc_generated = nlp(generated_quote)\n",
    "    doc_actual = nlp(actual_quote)\n",
    "\n",
    "    # Calculate similarity score\n",
    "    similarity_score = doc_generated.similarity(doc_actual)\n",
    "\n",
    "    # Append data to the list\n",
    "    similarity_data.append(\n",
    "        {\n",
    "            \"generated_quotes\": generated_quote,\n",
    "            \"actual_quotes\": actual_quote,\n",
    "            \"similarity_score\": similarity_score,\n",
    "        }\n",
    "    )\n",
    "\n",
    "# Create a DataFrame from the similarity data\n",
    "similarity_df = pd.DataFrame(similarity_data)"
   ]
  },
  {
   "cell_type": "code",
   "execution_count": 55,
   "metadata": {},
   "outputs": [
    {
     "data": {
      "text/plain": [
       "['Love is a thing full of anxious fears.',\n",
       " 'Now are fields of corn where Troy once stood.',\n",
       " \"We're slow to believe what wounds us.\",\n",
       " \"The end proves the acts (were done), or the result is a test of the actions; Ovid's line 85 full translation: “The event proves well the wisdom of her [Phyllis'] course.”\",\n",
       " \"Let him who loves, where love success may find, Spread all his sails before the prosp'rous wind.\",\n",
       " 'Resist beginnings; the remedy comes too late when the disease has gained strength by long delays.',\n",
       " \"Love yields to business. If you seek a way out of love, be busy; you'll be safe then.\",\n",
       " 'The gods behold all righteous actions.',\n",
       " 'There is a god within us.',\n",
       " 'The mind, conscious of rectitude, laughed to scorn the falsehood of report.',\n",
       " 'Every lover is a soldier.',\n",
       " 'Let the man who does not wish to be idle fall in love!',\n",
       " 'Far away be that fate!',\n",
       " 'They bear punishment with equanimity who have earned it.',\n",
       " \"We take no pleasure in permitted joys. But what's forbidden is more keenly sought.\",\n",
       " 'Who is allowed to sin, sins less.']"
      ]
     },
     "execution_count": 55,
     "metadata": {},
     "output_type": "execute_result"
    }
   ],
   "source": [
    "df[\"Quote\"].to_list()"
   ]
  },
  {
   "cell_type": "code",
   "execution_count": 54,
   "metadata": {},
   "outputs": [
    {
     "data": {
      "text/html": [
       "<div>\n",
       "<style scoped>\n",
       "    .dataframe tbody tr th:only-of-type {\n",
       "        vertical-align: middle;\n",
       "    }\n",
       "\n",
       "    .dataframe tbody tr th {\n",
       "        vertical-align: top;\n",
       "    }\n",
       "\n",
       "    .dataframe thead th {\n",
       "        text-align: right;\n",
       "    }\n",
       "</style>\n",
       "<table border=\"1\" class=\"dataframe\">\n",
       "  <thead>\n",
       "    <tr style=\"text-align: right;\">\n",
       "      <th></th>\n",
       "      <th>generated_quotes</th>\n",
       "      <th>actual_quotes</th>\n",
       "      <th>similarity_score</th>\n",
       "    </tr>\n",
       "  </thead>\n",
       "  <tbody>\n",
       "    <tr>\n",
       "      <th>123</th>\n",
       "      <td>\"Time flies, death urges, heaven's revolving w...</td>\n",
       "      <td>Let the man who does not wish to be idle fall ...</td>\n",
       "      <td>0.017135</td>\n",
       "    </tr>\n",
       "    <tr>\n",
       "      <th>27</th>\n",
       "      <td>\"Fortune favors the bold.\" - Metamorphoses</td>\n",
       "      <td>Let the man who does not wish to be idle fall ...</td>\n",
       "      <td>0.068201</td>\n",
       "    </tr>\n",
       "    <tr>\n",
       "      <th>77</th>\n",
       "      <td>\"Wherever there is a human being, there is an ...</td>\n",
       "      <td>They bear punishment with equanimity who have ...</td>\n",
       "      <td>0.082028</td>\n",
       "    </tr>\n",
       "    <tr>\n",
       "      <th>66</th>\n",
       "      <td>\"Wherever there is a human being, there is an ...</td>\n",
       "      <td>We're slow to believe what wounds us.</td>\n",
       "      <td>0.108871</td>\n",
       "    </tr>\n",
       "    <tr>\n",
       "      <th>34</th>\n",
       "      <td>\"One man's meat is another man's poison.\" - Me...</td>\n",
       "      <td>We're slow to believe what wounds us.</td>\n",
       "      <td>0.122052</td>\n",
       "    </tr>\n",
       "    <tr>\n",
       "      <th>...</th>\n",
       "      <td>...</td>\n",
       "      <td>...</td>\n",
       "      <td>...</td>\n",
       "    </tr>\n",
       "    <tr>\n",
       "      <th>115</th>\n",
       "      <td>\"Time flies, death urges, heaven's revolving w...</td>\n",
       "      <td>The end proves the acts (were done), or the re...</td>\n",
       "      <td>0.597987</td>\n",
       "    </tr>\n",
       "    <tr>\n",
       "      <th>35</th>\n",
       "      <td>\"One man's meat is another man's poison.\" - Me...</td>\n",
       "      <td>The end proves the acts (were done), or the re...</td>\n",
       "      <td>0.606245</td>\n",
       "    </tr>\n",
       "    <tr>\n",
       "      <th>6</th>\n",
       "      <td>\"Love is a kind of warfare.\" - Amores</td>\n",
       "      <td>Love yields to business. If you seek a way out...</td>\n",
       "      <td>0.609010</td>\n",
       "    </tr>\n",
       "    <tr>\n",
       "      <th>51</th>\n",
       "      <td>\"The cause is hidden, but the effect is visibl...</td>\n",
       "      <td>The end proves the acts (were done), or the re...</td>\n",
       "      <td>0.624752</td>\n",
       "    </tr>\n",
       "    <tr>\n",
       "      <th>95</th>\n",
       "      <td>\"If you want to be loved, be lovable.\" - Remed...</td>\n",
       "      <td>Who is allowed to sin, sins less.</td>\n",
       "      <td>0.625520</td>\n",
       "    </tr>\n",
       "  </tbody>\n",
       "</table>\n",
       "<p>128 rows × 3 columns</p>\n",
       "</div>"
      ],
      "text/plain": [
       "                                      generated_quotes  \\\n",
       "123  \"Time flies, death urges, heaven's revolving w...   \n",
       "27          \"Fortune favors the bold.\" - Metamorphoses   \n",
       "77   \"Wherever there is a human being, there is an ...   \n",
       "66   \"Wherever there is a human being, there is an ...   \n",
       "34   \"One man's meat is another man's poison.\" - Me...   \n",
       "..                                                 ...   \n",
       "115  \"Time flies, death urges, heaven's revolving w...   \n",
       "35   \"One man's meat is another man's poison.\" - Me...   \n",
       "6                \"Love is a kind of warfare.\" - Amores   \n",
       "51   \"The cause is hidden, but the effect is visibl...   \n",
       "95   \"If you want to be loved, be lovable.\" - Remed...   \n",
       "\n",
       "                                         actual_quotes  similarity_score  \n",
       "123  Let the man who does not wish to be idle fall ...          0.017135  \n",
       "27   Let the man who does not wish to be idle fall ...          0.068201  \n",
       "77   They bear punishment with equanimity who have ...          0.082028  \n",
       "66               We're slow to believe what wounds us.          0.108871  \n",
       "34               We're slow to believe what wounds us.          0.122052  \n",
       "..                                                 ...               ...  \n",
       "115  The end proves the acts (were done), or the re...          0.597987  \n",
       "35   The end proves the acts (were done), or the re...          0.606245  \n",
       "6    Love yields to business. If you seek a way out...          0.609010  \n",
       "51   The end proves the acts (were done), or the re...          0.624752  \n",
       "95                   Who is allowed to sin, sins less.          0.625520  \n",
       "\n",
       "[128 rows x 3 columns]"
      ]
     },
     "metadata": {},
     "output_type": "display_data"
    }
   ],
   "source": [
    "# Print the resulting DataFrame\n",
    "display(similarity_df.sort_values(\"similarity_score\"))"
   ]
  },
  {
   "cell_type": "code",
   "execution_count": null,
   "metadata": {},
   "outputs": [],
   "source": [
    "# For sanity-checking on how well a similarity_score does for retrieving a \"memorable quote\""
   ]
  },
  {
   "cell_type": "code",
   "execution_count": 50,
   "metadata": {},
   "outputs": [
    {
     "name": "stdout",
     "output_type": "stream",
     "text": [
      "highest score comparison:\n",
      "GENERATED: \"Let others praise ancient times; I am glad I was born in these.\" - From Amores\n",
      "ACTUAL: Love yields to business. If you seek a way out of love, be busy; you'll be safe then.\n"
     ]
    }
   ],
   "source": [
    "print(\"highest score comparison:\")\n",
    "idx = 54\n",
    "print(\"GENERATED:\", similarity_df.iloc[54][\"generated_quotes\"])\n",
    "print(\"ACTUAL:\", similarity_df.iloc[54][\"actual_quotes\"])"
   ]
  },
  {
   "cell_type": "markdown",
   "metadata": {},
   "source": [
    "### Storage of Additional Quotes"
   ]
  }
 ],
 "metadata": {
  "kernelspec": {
   "display_name": "venv",
   "language": "python",
   "name": "python3"
  },
  "language_info": {
   "codemirror_mode": {
    "name": "ipython",
    "version": 3
   },
   "file_extension": ".py",
   "mimetype": "text/x-python",
   "name": "python",
   "nbconvert_exporter": "python",
   "pygments_lexer": "ipython3",
   "version": "3.10.11"
  }
 },
 "nbformat": 4,
 "nbformat_minor": 2
}
