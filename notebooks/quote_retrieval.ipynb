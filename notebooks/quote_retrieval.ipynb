{
 "cells": [
  {
   "cell_type": "markdown",
   "metadata": {},
   "source": [
    "# Quote Generation/Retrieval\n",
    "\n"
   ]
  },
  {
   "cell_type": "code",
   "execution_count": 9,
   "metadata": {},
   "outputs": [],
   "source": [
    "from langchain.document_loaders import PyPDFLoader\n",
    "from langchain.vectorstores import FAISS\n",
    "from langchain.chat_models import ChatOpenAI\n",
    "from langchain.embeddings.openai import OpenAIEmbeddings\n",
    "from langchain.text_splitter import RecursiveCharacterTextSplitter\n",
    "from langchain.chains import RetrievalQA, ConversationalRetrievalChain\n",
    "import os\n",
    "import openai\n",
    "\n",
    "# import utils\n",
    "import configparser\n",
    "from pprint import pprint\n",
    "from llama_index import SimpleDirectoryReader\n",
    "\n",
    "\n",
    "import os\n",
    "import openai\n",
    "\n",
    "\n",
    "import jupyter_black\n",
    "\n",
    "jupyter_black.load()\n",
    "# Access values from the sections\n",
    "\n",
    "import sys\n",
    "\n",
    "sys.path.append(\"../app\")\n",
    "import conn_utils\n",
    "\n",
    "OPENAI_API_KEY = conn_utils.get_open_ai_key(\"../config.ini\")\n",
    "\n",
    "os.environ[\"OPENAI_API_KEY\"] = OPENAI_API_KEY\n",
    "directory = \"index_store\""
   ]
  },
  {
   "cell_type": "code",
   "execution_count": 11,
   "metadata": {},
   "outputs": [
    {
     "name": "stdout",
     "output_type": "stream",
     "text": [
      "Amours.txt               Heroides.txt             MetamorphosesVIII_XV.txt\n",
      "Fasti.txt                MetamorphosesI_VII.txt   RemediaAmoris.txt\n"
     ]
    }
   ],
   "source": [
    "!ls ./../data/"
   ]
  },
  {
   "cell_type": "code",
   "execution_count": 14,
   "metadata": {},
   "outputs": [],
   "source": [
    "f1 = \"./../data/RemediaAmoris.txt\"\n",
    "f3 = \"./../data/Heroides.txt\"\n",
    "f4 = \"./../data/Amours.txt\"\n",
    "f5 = \"./../data/Fasti.txt\"\n",
    "f6 = \"./../data/MetamorphosesI_VII.txt\"\n",
    "f7 = \"./../data/MetamorphosesVIII_XV.txt\"\n",
    "docs = [f1, f3, f4, f5, f6, f7]\n",
    "documents = SimpleDirectoryReader(input_files=docs).load_data()\n",
    "\n",
    "text_splitter = RecursiveCharacterTextSplitter(chunk_size=1000, chunk_overlap=25)\n",
    "texts = text_splitter.create_documents(docs)\n",
    "directory = \"index_store\"\n",
    "vector_index = FAISS.from_documents(texts, OpenAIEmbeddings())\n",
    "vector_index.save_local(directory)\n",
    "\n",
    "vector_index = FAISS.load_local(\"index_store\", OpenAIEmbeddings())\n",
    "retriever = vector_index.as_retriever(search_type=\"similarity\", search_kwargs={\"k\": 6})"
   ]
  },
  {
   "cell_type": "code",
   "execution_count": 17,
   "metadata": {},
   "outputs": [
    {
     "name": "stdout",
     "output_type": "stream",
     "text": [
      "Sure! Here are some memorable quotes from Ovid's works:\n",
      "\n",
      "1. \"Dripping water hollows out stone, not through force but through persistence.\" - From Metamorphoses\n",
      "2. \"The cause is hidden, but the result is well known.\" - From Metamorphoses\n",
      "3. \"Fortune and love favor the brave.\" - From Amores\n",
      "4. \"Let others praise ancient times; I am glad I was born in these.\" - From Amores\n",
      "5. \"Love is a kind of warfare.\" - From Remedia Amoris\n",
      "6. \"Time flies, never to be recalled.\" - From Heroides\n",
      "7. \"The day, water, sun, moon, night - I do not have to purchase these things with money.\" - From Fasti\n",
      "\n",
      "These are just a few examples, but Ovid's works are filled with many memorable quotes. Enjoy exploring his writings!\n"
     ]
    }
   ],
   "source": [
    "qa_interface = RetrievalQA.from_chain_type(\n",
    "    llm=ChatOpenAI(),\n",
    "    chain_type=\"stuff\",\n",
    "    retriever=retriever,\n",
    "    return_source_documents=True,\n",
    ")\n",
    "\n",
    "response = qa_interface(\n",
    "    \"\"\"\n",
    "I am a big fan of ovid. \n",
    "Please recommend memorable quotes to me.\n",
    "\"\"\"\n",
    ")\n",
    "\n",
    "print(response[\"result\"])"
   ]
  },
  {
   "cell_type": "markdown",
   "metadata": {},
   "source": [
    "### Compare stored quotes to newly generated ones"
   ]
  },
  {
   "cell_type": "code",
   "execution_count": 37,
   "metadata": {},
   "outputs": [
    {
     "name": "stdout",
     "output_type": "stream",
     "text": [
      "\"Dripping water hollows out stone, not through force but through persistence.\" - From Metamorphoses\n",
      "\"The cause is hidden, but the result is well known.\" - From Metamorphoses\n",
      "\"Fortune and love favor the brave.\" - From Amores\n",
      "\"Let others praise ancient times; I am glad I was born in these.\" - From Amores\n",
      "\"Love is a kind of warfare.\" - From Remedia Amoris\n",
      "\"Time flies, never to be recalled.\" - From Heroides\n",
      "\"The day, water, sun, moon, night - I do not have to purchase these things with money.\" - From Fasti\n"
     ]
    }
   ],
   "source": [
    "import pandas as pd\n",
    "import spacy\n",
    "\n",
    "nlp = spacy.load(\"en_core_web_sm\")\n",
    "\n",
    "# Read in stored quotes\n",
    "df = pd.read_json(\"./../ovid_quotes.json\")\n",
    "\n",
    "input_string = response[\"result\"]\n",
    "\n",
    "\n",
    "import re\n",
    "\n",
    "# Extract lines starting with a number and strip the number\n",
    "lines_with_stripped_numbers = [\n",
    "    re.sub(r\"^\\d+\\.\\s*\", \"\", line.strip())\n",
    "    for line in input_string.splitlines()\n",
    "    if re.match(r\"^\\d+\\.\", line)\n",
    "]\n",
    "\n",
    "# Print the extracted lines\n",
    "for line in lines_with_stripped_numbers:\n",
    "    print(line)"
   ]
  },
  {
   "cell_type": "code",
   "execution_count": 44,
   "metadata": {},
   "outputs": [
    {
     "name": "stderr",
     "output_type": "stream",
     "text": [
      "/var/folders/qq/gdppvj912kv3ds7_xnf0q_fc0000gn/T/ipykernel_19754/2166764357.py:18: UserWarning: [W007] The model you're using has no word vectors loaded, so the result of the Doc.similarity method will be based on the tagger, parser and NER, which may not give useful similarity judgements. This may happen if you're using one of the small models, e.g. `en_core_web_sm`, which don't ship with word vectors and only use context-sensitive tensors. You can always add your own word vectors, or use one of the larger models instead if available.\n",
      "  similarity_score = doc_generated.similarity(doc_actual)\n"
     ]
    }
   ],
   "source": [
    "from itertools import product\n",
    "\n",
    "# Compare to quotes\n",
    "generated_quotes = lines_with_stripped_numbers\n",
    "\n",
    "# Load the spaCy English model\n",
    "nlp = spacy.load(\"en_core_web_sm\")\n",
    "\n",
    "# Process each quote and calculate similarity scores\n",
    "similarity_data = []\n",
    "\n",
    "for generated_quote, actual_quote in product(generated_quotes, df[\"Quote\"]):\n",
    "    # Process the quotes with spaCy\n",
    "    doc_generated = nlp(generated_quote)\n",
    "    doc_actual = nlp(actual_quote)\n",
    "\n",
    "    # Calculate similarity score\n",
    "    similarity_score = doc_generated.similarity(doc_actual)\n",
    "\n",
    "    # Append data to the list\n",
    "    similarity_data.append(\n",
    "        {\n",
    "            \"generated_quotes\": generated_quote,\n",
    "            \"actual_quotes\": actual_quote,\n",
    "            \"similarity_score\": similarity_score,\n",
    "        }\n",
    "    )\n",
    "\n",
    "# Create a DataFrame from the similarity data\n",
    "similarity_df = pd.DataFrame(similarity_data)"
   ]
  },
  {
   "cell_type": "code",
   "execution_count": 45,
   "metadata": {},
   "outputs": [
    {
     "data": {
      "text/html": [
       "<div>\n",
       "<style scoped>\n",
       "    .dataframe tbody tr th:only-of-type {\n",
       "        vertical-align: middle;\n",
       "    }\n",
       "\n",
       "    .dataframe tbody tr th {\n",
       "        vertical-align: top;\n",
       "    }\n",
       "\n",
       "    .dataframe thead th {\n",
       "        text-align: right;\n",
       "    }\n",
       "</style>\n",
       "<table border=\"1\" class=\"dataframe\">\n",
       "  <thead>\n",
       "    <tr style=\"text-align: right;\">\n",
       "      <th></th>\n",
       "      <th>generated_quotes</th>\n",
       "      <th>actual_quotes</th>\n",
       "      <th>similarity_score</th>\n",
       "    </tr>\n",
       "  </thead>\n",
       "  <tbody>\n",
       "    <tr>\n",
       "      <th>110</th>\n",
       "      <td>\"The day, water, sun, moon, night - I do not h...</td>\n",
       "      <td>We take no pleasure in permitted joys. But wha...</td>\n",
       "      <td>0.063819</td>\n",
       "    </tr>\n",
       "    <tr>\n",
       "      <th>97</th>\n",
       "      <td>\"The day, water, sun, moon, night - I do not h...</td>\n",
       "      <td>Now are fields of corn where Troy once stood.</td>\n",
       "      <td>0.067263</td>\n",
       "    </tr>\n",
       "    <tr>\n",
       "      <th>4</th>\n",
       "      <td>\"Dripping water hollows out stone, not through...</td>\n",
       "      <td>Let him who loves, where love success may find...</td>\n",
       "      <td>0.075733</td>\n",
       "    </tr>\n",
       "    <tr>\n",
       "      <th>36</th>\n",
       "      <td>\"Fortune and love favor the brave.\" - From Amores</td>\n",
       "      <td>Let him who loves, where love success may find...</td>\n",
       "      <td>0.095973</td>\n",
       "    </tr>\n",
       "    <tr>\n",
       "      <th>33</th>\n",
       "      <td>\"Fortune and love favor the brave.\" - From Amores</td>\n",
       "      <td>Now are fields of corn where Troy once stood.</td>\n",
       "      <td>0.101306</td>\n",
       "    </tr>\n",
       "    <tr>\n",
       "      <th>...</th>\n",
       "      <td>...</td>\n",
       "      <td>...</td>\n",
       "      <td>...</td>\n",
       "    </tr>\n",
       "    <tr>\n",
       "      <th>105</th>\n",
       "      <td>\"The day, water, sun, moon, night - I do not h...</td>\n",
       "      <td>The mind, conscious of rectitude, laughed to s...</td>\n",
       "      <td>0.531386</td>\n",
       "    </tr>\n",
       "    <tr>\n",
       "      <th>30</th>\n",
       "      <td>\"The cause is hidden, but the result is well k...</td>\n",
       "      <td>We take no pleasure in permitted joys. But wha...</td>\n",
       "      <td>0.549881</td>\n",
       "    </tr>\n",
       "    <tr>\n",
       "      <th>70</th>\n",
       "      <td>\"Love is a kind of warfare.\" - From Remedia Am...</td>\n",
       "      <td>Love yields to business. If you seek a way out...</td>\n",
       "      <td>0.588051</td>\n",
       "    </tr>\n",
       "    <tr>\n",
       "      <th>54</th>\n",
       "      <td>\"Let others praise ancient times; I am glad I ...</td>\n",
       "      <td>Love yields to business. If you seek a way out...</td>\n",
       "      <td>0.592658</td>\n",
       "    </tr>\n",
       "    <tr>\n",
       "      <th>19</th>\n",
       "      <td>\"The cause is hidden, but the result is well k...</td>\n",
       "      <td>The end proves the acts (were done), or the re...</td>\n",
       "      <td>0.627291</td>\n",
       "    </tr>\n",
       "  </tbody>\n",
       "</table>\n",
       "<p>112 rows × 3 columns</p>\n",
       "</div>"
      ],
      "text/plain": [
       "                                      generated_quotes  \\\n",
       "110  \"The day, water, sun, moon, night - I do not h...   \n",
       "97   \"The day, water, sun, moon, night - I do not h...   \n",
       "4    \"Dripping water hollows out stone, not through...   \n",
       "36   \"Fortune and love favor the brave.\" - From Amores   \n",
       "33   \"Fortune and love favor the brave.\" - From Amores   \n",
       "..                                                 ...   \n",
       "105  \"The day, water, sun, moon, night - I do not h...   \n",
       "30   \"The cause is hidden, but the result is well k...   \n",
       "70   \"Love is a kind of warfare.\" - From Remedia Am...   \n",
       "54   \"Let others praise ancient times; I am glad I ...   \n",
       "19   \"The cause is hidden, but the result is well k...   \n",
       "\n",
       "                                         actual_quotes  similarity_score  \n",
       "110  We take no pleasure in permitted joys. But wha...          0.063819  \n",
       "97       Now are fields of corn where Troy once stood.          0.067263  \n",
       "4    Let him who loves, where love success may find...          0.075733  \n",
       "36   Let him who loves, where love success may find...          0.095973  \n",
       "33       Now are fields of corn where Troy once stood.          0.101306  \n",
       "..                                                 ...               ...  \n",
       "105  The mind, conscious of rectitude, laughed to s...          0.531386  \n",
       "30   We take no pleasure in permitted joys. But wha...          0.549881  \n",
       "70   Love yields to business. If you seek a way out...          0.588051  \n",
       "54   Love yields to business. If you seek a way out...          0.592658  \n",
       "19   The end proves the acts (were done), or the re...          0.627291  \n",
       "\n",
       "[112 rows x 3 columns]"
      ]
     },
     "metadata": {},
     "output_type": "display_data"
    }
   ],
   "source": [
    "# Print the resulting DataFrame\n",
    "display(similarity_df.sort_values(\"similarity_score\"))"
   ]
  },
  {
   "cell_type": "code",
   "execution_count": null,
   "metadata": {},
   "outputs": [],
   "source": [
    "# For sanity-checking on how well a similarity_score does for retrieving a \"memorable quote\""
   ]
  },
  {
   "cell_type": "code",
   "execution_count": 50,
   "metadata": {},
   "outputs": [
    {
     "name": "stdout",
     "output_type": "stream",
     "text": [
      "highest score comparison:\n",
      "GENERATED: \"Let others praise ancient times; I am glad I was born in these.\" - From Amores\n",
      "ACTUAL: Love yields to business. If you seek a way out of love, be busy; you'll be safe then.\n"
     ]
    }
   ],
   "source": [
    "print(\"highest score comparison:\")\n",
    "idx = 54\n",
    "print(\"GENERATED:\", similarity_df.iloc[54][\"generated_quotes\"])\n",
    "print(\"ACTUAL:\", similarity_df.iloc[54][\"actual_quotes\"])"
   ]
  },
  {
   "cell_type": "markdown",
   "metadata": {},
   "source": [
    "### Storage of Additional Quotes"
   ]
  }
 ],
 "metadata": {
  "kernelspec": {
   "display_name": "venv",
   "language": "python",
   "name": "python3"
  },
  "language_info": {
   "codemirror_mode": {
    "name": "ipython",
    "version": 3
   },
   "file_extension": ".py",
   "mimetype": "text/x-python",
   "name": "python",
   "nbconvert_exporter": "python",
   "pygments_lexer": "ipython3",
   "version": "3.10.11"
  }
 },
 "nbformat": 4,
 "nbformat_minor": 2
}
