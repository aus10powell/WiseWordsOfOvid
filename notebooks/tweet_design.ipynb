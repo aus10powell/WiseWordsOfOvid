{
 "cells": [
  {
   "cell_type": "code",
   "execution_count": 3,
   "metadata": {},
   "outputs": [],
   "source": [
    "import tweepy\n",
    "import sys\n",
    "import jupyter_black\n",
    "import configparser\n",
    "\n",
    "jupyter_black.load()\n",
    "\n",
    "\n",
    "sys.path.append(\"./../app\")\n",
    "# import conn_utils\n",
    "# from conn_utils import TwitterAPIConnector\n",
    "\n",
    "# api_configs = TwitterAPIConnector(config_fpath=\"../app/config.ini\")\n",
    "# client_v1 = api_configs.get_twitter_conn_v1()\n",
    "# client_v2 = api_configs.get_twitter_conn_v2()\n",
    "\n",
    "# OPENAI_API_KEY = conn_utils.get_open_ai_key(\"../app/config.ini\")"
   ]
  },
  {
   "cell_type": "code",
   "execution_count": 4,
   "metadata": {},
   "outputs": [
    {
     "data": {
      "text/plain": [
       "'Who is allowed to sin, sins less.'"
      ]
     },
     "metadata": {},
     "output_type": "display_data"
    },
    {
     "data": {
      "text/plain": [
       "'Amores (Love Affairs), Book II; xix, 34'"
      ]
     },
     "metadata": {},
     "output_type": "display_data"
    },
    {
     "name": "stdout",
     "output_type": "stream",
     "text": [
      "Final tweet: \n",
      " \"Who is allowed to sin, sins less.\" - Amores (Love Affairs), Book II; xix, 34\n",
      "Freedom can reduce the allure of sin. Less restrictions, less rebellion.  📜\n",
      "\n",
      "#OvidWisdom #OvidQuotes #quoteoftheday\n"
     ]
    }
   ],
   "source": [
    "from tweets import Tweeter\n",
    "from tweets import CreateTweet\n",
    "import logging\n",
    "\n",
    "module_logger = logging.getLogger(__name__)\n",
    "\n",
    "t = Tweeter(config_fpath=\"../app/config.ini\")\n",
    "t.twitter_api_v2\n",
    "# Uncomment to tweet\n",
    "tweet_instance = CreateTweet()\n",
    "#display(tweet_instance.quote)\n",
    "#display(tweet_instance.work)\n",
    "ai_tweet = tweet_instance.format_tweet()\n",
    "# t.post_tweet(\"Hello World!\")\n",
    "\n",
    "while len(ai_tweet) > 280:\n",
    "    print(\"*\" * 10)\n",
    "    print(\"Tweet too long!\")\n",
    "    module_logger.info(\"Tweet too long!\")\n",
    "    ai_tweet = tweet_instance.format_tweet()\n",
    "print(f\"Final tweet: \\n {ai_tweet}\")\n",
    "\n",
    "module_logger.info(f\"Final tweet: \\n {ai_tweet}\")\n",
    "t.post_tweet(ai_tweet)"
   ]
  },
  {
   "cell_type": "code",
   "execution_count": 5,
   "metadata": {},
   "outputs": [
    {
     "name": "stdout",
     "output_type": "stream",
     "text": [
      "\"Happy is the man who has broken the chains which hurt the mind, and has given up worrying once and for all.\" from Metamorphoses\n",
      "True happiness comes from freeing the mind of worries. It's about breaking mental chains.  📚\n",
      "\n",
      "#Mindfulness #OvidQuotes #quoteoftheday\n"
     ]
    }
   ],
   "source": [
    "print(ai_tweet)"
   ]
  },
  {
   "cell_type": "code",
   "execution_count": 3,
   "metadata": {},
   "outputs": [
    {
     "name": "stdout",
     "output_type": "stream",
     "text": [
      "UTC Time: 2023-12-14 01:37:21.996205\n",
      "PST Time: 2023-12-13 17:37:21.996205-08:00\n"
     ]
    },
    {
     "data": {
      "text/plain": [
       "(datetime.datetime(2023, 12, 13, 17, 37, 21, 996205, tzinfo=<DstTzInfo 'America/Los_Angeles' PST-1 day, 16:00:00 STD>),\n",
       " datetime.datetime(2023, 12, 14, 1, 37, 21, 996205))"
      ]
     },
     "execution_count": 3,
     "metadata": {},
     "output_type": "execute_result"
    }
   ],
   "source": [
    "def get_utc_and_pacific_tm():\n",
    "    from datetime import datetime\n",
    "    import pytz\n",
    "\n",
    "    # Get the current UTC time\n",
    "    utc_now = datetime.utcnow()\n",
    "\n",
    "    # Set the UTC timezone\n",
    "    utc_timezone = pytz.timezone(\"UTC\")\n",
    "\n",
    "    # Convert UTC time to Pacific Standard Time (PST)\n",
    "    pst_timezone = pytz.timezone(\"America/Los_Angeles\")\n",
    "    pst_time = utc_timezone.localize(utc_now).astimezone(pst_timezone)\n",
    "\n",
    "    # Print the result\n",
    "    print(f\"UTC Time: {utc_now}\")\n",
    "    print(f\"PST Time: {pst_time}\")\n",
    "    return pst_time, utc_now\n",
    "\n",
    "\n",
    "get_utc_and_pacific_tm()"
   ]
  },
  {
   "cell_type": "markdown",
   "metadata": {},
   "source": [
    "## Generate Tweets\n",
    "\n",
    "**Steps:**\n",
    "1) Sample quote \n",
    "2) Use TweetAI to generate commentary\n",
    "3) Format quote and TweetAI content\n",
    "4) Tweet/X it!"
   ]
  },
  {
   "cell_type": "code",
   "execution_count": 7,
   "metadata": {},
   "outputs": [
    {
     "data": {
      "text/plain": [
       "\"Love yields to business. If you seek a way out of love, be busy; you'll be safe then.\""
      ]
     },
     "metadata": {},
     "output_type": "display_data"
    },
    {
     "data": {
      "text/plain": [
       "'Remedia Amoris (The Cure for Love), lines 143–144'"
      ]
     },
     "metadata": {},
     "output_type": "display_data"
    },
    {
     "data": {
      "text/plain": [
       "'\"Love yields to business. If you seek a way out of love, be busy; you\\'ll be safe then.\" from Remedia Amoris (The Cure for Love), lines 143–144\\nOvid\\'s wisdom suggests that busyness can be an antidote to love\\'s grip. Stay occupied, stay safe.  📜\\n\\n#LoveAdvice #OvidQuotes #quoteoftheday'"
      ]
     },
     "metadata": {},
     "output_type": "display_data"
    }
   ],
   "source": [
    "import pandas as pd\n",
    "from genai import TweetAI\n",
    "import re\n",
    "import conn_utils\n",
    "\n",
    "OPENAI_API_KEY = conn_utils.get_open_ai_key(\"../app/config.ini\")\n",
    "\n",
    "# Testing below\n",
    "tweet_instance = CreateTweet()\n",
    "display(tweet_instance.quote)\n",
    "display(tweet_instance.work)\n",
    "display(tweet_instance.format_tweet())"
   ]
  },
  {
   "cell_type": "markdown",
   "metadata": {},
   "source": [
    "## Tweet Post Test"
   ]
  },
  {
   "cell_type": "code",
   "execution_count": 8,
   "metadata": {},
   "outputs": [
    {
     "name": "stdout",
     "output_type": "stream",
     "text": [
      "('\"Who is allowed to sin, sins less.\" from Amores (Love Affairs), Book II; '\n",
      " 'xix, 34\\n'\n",
      " \"When freedom to err is given, less mistakes are made. It's about trust and \"\n",
      " 'responsibility.  🏛️\\n'\n",
      " '\\n'\n",
      " '#OvidWisdom #OvidQuotes #quoteoftheday')\n"
     ]
    }
   ],
   "source": [
    "from pprint import pprint\n",
    "\n",
    "tweet_instance = CreateTweet()\n",
    "tweet_final = tweet_instance.format_tweet()\n",
    "pprint(tweet_final)\n",
    "\n",
    "while len(tweet_final) > 280:\n",
    "    print(\"*\" * 10)\n",
    "    print(\"Tweet too long!\")\n",
    "    tweet_final = tweet_instance.format_tweet()\n",
    "\n",
    "\n",
    "def post_tweet(tweet, api):\n",
    "    tweet = api.create_tweet(text=tweet)\n",
    "\n",
    "\n",
    "post_tweet(tweet=tweet_final, api=client_v2)"
   ]
  },
  {
   "cell_type": "code",
   "execution_count": null,
   "metadata": {},
   "outputs": [],
   "source": []
  }
 ],
 "metadata": {
  "kernelspec": {
   "display_name": "venv",
   "language": "python",
   "name": "python3"
  },
  "language_info": {
   "codemirror_mode": {
    "name": "ipython",
    "version": 3
   },
   "file_extension": ".py",
   "mimetype": "text/x-python",
   "name": "python",
   "nbconvert_exporter": "python",
   "pygments_lexer": "ipython3",
   "version": "3.10.11"
  }
 },
 "nbformat": 4,
 "nbformat_minor": 2
}
